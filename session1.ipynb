{
 "cells": [
  {
   "cell_type": "markdown",
   "metadata": {},
   "source": [
    "**Meherun Mehnaj Miti**"
Batch 233
   ]
  },
  {
   "cell_type": "markdown",
   "metadata": {},
   "source": [
    "# [**DO NOT FORGET TO SOLVE THE GIVEN PRACTICE SHEETS IN YOUR ELMS**](https://drive.google.com/drive/folders/19fA8IC90u8hNwQRosYSFHwmPeOVw-Kpa)\n",
    "\n",
    "^^**Click on this link to go to the practice sheet drive**\n",
    "\n",
    "**Tracing Board:** https://drive.google.com/file/d/1u2zRPV7Wgdo50BH5FWAJEWNIGAHZS4CE/view?usp=sharing"
   ]
  },
  {
   "cell_type": "markdown",
   "metadata": {},
   "source": [
    "# Extra Resources to Practice From:\n",
    "\n",
    "\n",
    "https://www.geeksforgeeks.org/python-exercises-practice-questions-and-solutions/\n",
    "\n",
    "https://www.w3resource.com/python-exercises/python-basic-exercises.php"
   ]
  },
  {
   "cell_type": "markdown",
   "metadata": {},
   "source": [
    "# **Basics Review: User Inputs, Data Types, Variables, Functions, Slicing**"
   ]
  },
  {
   "cell_type": "code",
   "execution_count": 2,
   "metadata": {},
   "outputs": [
    {
     "name": "stdout",
     "output_type": "stream",
     "text": [
      "Manchester\n"
     ]
    }
   ],
   "source": [
    "#By default=string\n",
    "a=input(\"enter a value: \").strip()\n",
    "b=input(\"enter a value: \").lower()\n",
    "c=input(\"enter a value: \").upper() \n",
    "d=input(\"enter a value: \").title()\n",
    "# a=float(input(\"enter a value: \")) \n",
    "\n",
    "print(a) "
   ]
  },
  {
   "cell_type": "code",
   "execution_count": 16,
   "metadata": {},
   "outputs": [
    {
     "name": "stdout",
     "output_type": "stream",
     "text": [
      "Yes\n"
     ]
    }
   ],
   "source": [
    "cake_type=input(\"Enter cake type:\")\n",
    "cake=\"cheesecake\"\n",
    "\n",
    "if cake_type.lower()==cake:\n",
    "    print(\"Yes\")\n",
    "\n",
    "else:\n",
    "    print(\"No\")"
   ]
  },
  {
   "cell_type": "markdown",
   "metadata": {},
   "source": [
    "**Slicing**"
   ]
  },
  {
   "cell_type": "code",
   "execution_count": 24,
   "metadata": {},
   "outputs": [
    {
     "name": "stdout",
     "output_type": "stream",
     "text": [
      "[10, 6]\n"
     ]
    }
   ],
   "source": [
    "#     -8-7-6-5-4-3-2-1\n",
    "#      0 1 2 3 4 5 6 7      [starting index:last index:diff or increment]\n",
    "list1=[3,5,2,4,6,7,3,10]\n",
    "\n",
    "a=list1[1::] \n",
    "b=list1[::]\n",
    "c=list1[::3]\n",
    "\n",
    "# print(a)\n",
    "# print(b)    \n",
    "# print(c) \n",
    "\n",
    "d=list1[0:-3:]\n",
    "e=list1[-6:-2:]\n",
    "f=list1[-1:-7:-3]\n",
    "print(f)\n",
    "\n"
   ]
  },
  {
   "cell_type": "markdown",
   "metadata": {},
   "source": [
    "datalist = [1452, 11.23, 1+2j, True,\n",
    " 'Pikachu', (0,-1), [5, 12],\n",
    " {\"Type\":'Electric', \"Ability\":'Static'}]"
   ]
  },
  {
   "cell_type": "code",
   "execution_count": 29,
   "metadata": {},
   "outputs": [
    {
     "name": "stdout",
     "output_type": "stream",
     "text": [
      "<class 'int'>\n",
      "<class 'float'>\n",
      "<class 'complex'>\n",
      "<class 'bool'>\n",
      "<class 'str'>\n",
      "<class 'tuple'>\n",
      "<class 'list'>\n",
      "<class 'dict'>\n"
     ]
    }
   ],
   "source": [
    "datalist = [1452, 11.23, 1+2j, True,\n",
    " 'Pikachu', (0,-1), [5, 12],\n",
    " {\"Type\":'Electric', \"Ability\":'Static'}]\n",
    "\n",
    "for x in datalist:\n",
    "    print(type(x))"
   ]
  },
  {
   "cell_type": "markdown",
   "metadata": {},
   "source": [
    "# **Conditional Statements**"
   ]
  },
  {
   "cell_type": "markdown",
   "metadata": {},
   "source": [
    "#Write a program that will take two numbers **X and Y as inputs** from the user. Then it\n",
    "will print the **square of X** and **increment (if X<Y) X by 1**, until **X\n",
    "reaches Y or is equal to y**. If and when X is equal to Y, the program prints “Reached!”\n",
    "\n",
    "**Input **       \n",
    "\n",
    "x=5\n",
    "y=10        \n",
    "\n",
    "**Output **\n",
    "\n",
    "25, 36, 49, 64, 81, 100, Reached!"
   ]
  },
  {
   "cell_type": "code",
   "execution_count": 38,
   "metadata": {},
   "outputs": [
    {
     "name": "stdout",
     "output_type": "stream",
     "text": [
      "25 36 49 64 81 100 Reached\n"
     ]
    }
   ],
   "source": [
    "x=int(input(\"Enter the value: \"))\n",
    "y=int(input(\"Enter the value: \"))\n",
    "\n",
    "while x<=y: #True\n",
    "    print(x**2,end=\" \")\n",
    "    if x==y:\n",
    "        print(\"Reached\")\n",
    "        break\n",
    "    x+=1 #x=x+1\n"
   ]
  },
  {
   "cell_type": "code",
   "execution_count": 39,
   "metadata": {},
   "outputs": [
    {
     "name": "stdout",
     "output_type": "stream",
     "text": [
      "1 4 9 16 25 "
     ]
    }
   ],
   "source": [
    "#Using for loop\n",
    "\n",
    "x=int(input(\"Enter the value: \"))\n",
    "y=int(input(\"Enter the value: \"))\n",
    "\n",
    "for i in range(x,y+1):\n",
    "    if x<=y:\n",
    "        print(i**2,end=\" \")\n",
    "\n"
   ]
  },
  {
   "cell_type": "markdown",
   "metadata": {},
   "source": [
    "#Write a program that will find x**y (**x to the power y**) where x, y are ***positive integers***."
   ]
  },
  {
   "cell_type": "code",
   "execution_count": 40,
   "metadata": {},
   "outputs": [
    {
     "name": "stdout",
     "output_type": "stream",
     "text": [
      "16\n"
     ]
    }
   ],
   "source": [
    "x=int(input(\"Enter the value: \"))\n",
    "y=int(input(\"Enter the value: \"))\n",
    "\n",
    "if x>0 and y>0:\n",
    "    print(x**y)"
   ]
  },
  {
   "cell_type": "markdown",
   "metadata": {},
   "source": [
    "**Write a program to calculate the electricity bill based on the following rules:**\n",
    "\n",
    "• For the first 100 units, the charge is $0.5 per unit. \n",
    "\n",
    "• For the next 100 units (101–200), the charge is $0.75 per unit. \n",
    "\n",
    "• For the next 100 units (201–300), the charge is $1.20 per unit. \n",
    "\n",
    "• Above 300 units, the charge is $1.50 per unit. \n",
    "\n",
    "Input will be the total number of units consumed. \n",
    "\n",
    "\n",
    "Input |Output \n",
    "\n",
    "50    |  $25.00 \n",
    "\n",
    "\n",
    "150   |  $87.50 \n",
    "\n",
    "\n",
    "250   |  $185.00 \n",
    "\n",
    "\n",
    "350   |  $320.00\n",
    "\n",
    "\n",
    " \n",
    "\n",
    " \n",
    "\n"
   ]
  },
  {
   "cell_type": "code",
   "execution_count": 43,
   "metadata": {},
   "outputs": [
    {
     "name": "stdout",
     "output_type": "stream",
     "text": [
      "Total Bill 320.0\n"
     ]
    }
   ],
   "source": [
    "units=float(input(\"Enter total Unit: \"))\n",
    "total_cost=0\n",
    "\n",
    "if units<=100:\n",
    "    total_cost=units*0.5\n",
    "\n",
    "elif units>=101 and units <=200:\n",
    "    total_cost= (100*0.5)+((units-100)*0.75)\n",
    "\n",
    "elif units>=201 and units <=300:\n",
    "    total_cost= (100*0.5)+(100*0.75)+((units-200)*1.20)\n",
    "else:\n",
    "    total_cost= (100*0.5)+(100*0.75)+(100*1.20)+((units-300)*1.50)\n",
    "\n",
    "print(f\"Total Bill {total_cost}\" )\n",
    "\n"
   ]
  },
  {
   "cell_type": "markdown",
   "metadata": {},
   "source": [
    "**Write a simple program that helps users calculate the area and perimeter/circumference of different shapes based on their choice. The program should ask the user to input a number corresponding to the shape they want to calculate. The choices are as follows:**\n",
    "\n",
    " If the user input value is 1, then calculate the area for a circle.\n",
    "\n",
    "* If it is 2, then calculate the area for a square.\n",
    "\n",
    "* If it is 3, then calculate the area for a rectangle.\n",
    "\n",
    "* If it is 4, then calculate only the area for a triangle.\n",
    "\n",
    "\n",
    "**After choosing the shape, the program should ask for the necessary values:**\n",
    " * For a circle, ask for the radius.\n",
    "\n",
    " * For a square, ask for the length of a side.\n",
    "\n",
    " * For a rectangle, ask for the lengths of two sides.\n",
    "\n",
    " * For a triangle, ask for the base and height.*\n",
    " \n",
    "\n",
    "Calculate their area and finally, print the values in the terminal.\n",
    "\n",
    " NOTE: Take the value of pi π\n",
    " as 3.14."
   ]
  },
  {
   "cell_type": "code",
   "execution_count": 79,
   "metadata": {},
   "outputs": [
    {
     "name": "stdout",
     "output_type": "stream",
     "text": [
      "Choose the shape to calculate area (and perimeter/circumference):\n",
      "1. Circle\n",
      "2. Square\n",
      "3. Rectangle\n",
      "4. Triangle\n",
      "Area of Circle: 50.24\n",
      "Circumference of Circle: 25.12\n"
     ]
    }
   ],
   "source": [
    "\n",
    "print(\"Choose the shape to calculate area (and perimeter/circumference):\")\n",
    "print(\"1. Circle\")\n",
    "print(\"2. Square\")\n",
    "print(\"3. Rectangle\")\n",
    "print(\"4. Triangle\")\n",
    "\n",
    "\n",
    "choice = int(input(\"Enter the number corresponding to your choice: \"))\n",
    "\n",
    "if choice == 1:\n",
    "  \n",
    "    radius = float(input(\"Enter the radius of the circle: \"))\n",
    "    area = 3.14 * (radius ** 2)  \n",
    "    circumference = 2 * 3.14 * radius  \n",
    "    print(f\"Area of Circle: {area}\")\n",
    "    print(f\"Circumference of Circle: {circumference}\")\n",
    "\n",
    "elif choice == 2:\n",
    "  \n",
    "    side = float(input(\"Enter the side length of the square: \"))\n",
    "    area = side ** 2 \n",
    "    perimeter = 4 * side  \n",
    "    print(f\"Area of Square: {area}\")\n",
    "    print(f\"Perimeter of Square: {perimeter}\")\n",
    "\n",
    "elif choice == 3:\n",
    "\n",
    "    length = float(input(\"Enter the length of the rectangle: \"))\n",
    "    width = float(input(\"Enter the width of the rectangle: \"))\n",
    "    area = length * width \n",
    "    perimeter = 2 * (length + width) \n",
    "    print(f\"Area of Rectangle: {area}\")\n",
    "    print(f\"Perimeter of Rectangle: {perimeter}\")\n",
    "\n",
    "elif choice == 4:\n",
    "   \n",
    "    base = float(input(\"Enter the base of the triangle: \"))\n",
    "    height = float(input(\"Enter the height of the triangle: \"))\n",
    "    area = 0.5 * base * height \n",
    "    print(f\"Area of Triangle: {area}\")\n",
    "\n",
    "else:\n",
    "    print(\"Invalid choice! Please select a number between 1 and 4.\")"
   ]
  },
  {
   "cell_type": "markdown",
   "metadata": {},
   "source": [
    "# **Loops: For, While**"
   ]
  },
  {
   "cell_type": "markdown",
   "metadata": {},
   "source": [
    "You are given a string str, you need to return True if  the words \"cat\" and \"hat\" appear same number of times in str, otherwise return False."
   ]
  },
  {
   "cell_type": "code",
   "execution_count": 4,
   "metadata": {},
   "outputs": [
    {
     "name": "stdout",
     "output_type": "stream",
     "text": [
      "same\n"
     ]
    }
   ],
   "source": [
    "string=\"catcatdogcathathat\"\n",
    "\n",
    "cat_count=string.count(\"cat\") #count()\n",
    "hat_count=string.count(\"hat\")\n",
    "\n",
    "if cat_count==hat_count:\n",
    "    print(\"same\")\n",
    "else:\n",
    "    print(\"No\")"
   ]
  },
  {
   "cell_type": "markdown",
   "metadata": {},
   "source": [
    "Write a program that will find the GCD (greatest common divisor)\n",
    "and LCM (least common multiple) of two positive integers."
   ]
  },
  {
   "cell_type": "code",
   "execution_count": 49,
   "metadata": {},
   "outputs": [
    {
     "name": "stdout",
     "output_type": "stream",
     "text": [
      "1 1\n"
     ]
    }
   ],
   "source": [
    "a=int(input(\"Enter the value: \"))\n",
    "b=int(input(\"Enter the value: \"))\n",
    "\n",
    "x=a\n",
    "y=b\n",
    "\n",
    "while y!=0:\n",
    "    x,y=y,x%y\n",
    "\n",
    "gcd=x\n",
    "\n",
    "lcm=(a*b)//gcd\n",
    "\n",
    "print(lcm,gcd)\n"
   ]
  },
  {
   "cell_type": "markdown",
   "metadata": {},
   "source": [
    "# **List**"
   ]
  },
  {
   "cell_type": "markdown",
   "metadata": {},
   "source": [
    "Find Maximum number in a list."
   ]
  },
  {
   "cell_type": "code",
   "execution_count": 51,
   "metadata": {},
   "outputs": [
    {
     "name": "stdout",
     "output_type": "stream",
     "text": [
      "3\n"
     ]
    }
   ],
   "source": [
    "# List\n",
    "# max(list)\n",
    "\n",
    "list=[1,2,3,-1]\n",
    "\n",
    "max=list[0]\n",
    "\n",
    "for x in list:\n",
    "    if x>max:\n",
    "        max=x\n",
    "print(max)"
   ]
  },
  {
   "cell_type": "markdown",
   "metadata": {},
   "source": [
    "* List of Pokémon\n",
    "pokemons=[\"Pikachu\", \"Charmander\", \"Squirtle\", \"Bulbasaur\", \"Jigglypuff\"]\n",
    "\n",
    "* List of their types\n",
    "types=[\"Electric\", \"Fire\", \"Water\", \"Grass\", \"Fairy\"]\n",
    "\n",
    "**The first List contains the name of the Pokemons and the other contains there types. Take a input of the pokemon name from the user and if its present in the list, print it's type. Otherwise print \"Not Available\"**\n"
   ]
  },
  {
   "cell_type": "code",
   "execution_count": 54,
   "metadata": {},
   "outputs": [
    {
     "name": "stdout",
     "output_type": "stream",
     "text": [
      "Electric\n"
     ]
    }
   ],
   "source": [
    "pokemons=[\"Pikachu\", \"Charmander\", \"Squirtle\", \"Bulbasaur\", \"Jigglypuff\"]\n",
    "types=[\"Electric\", \"Fire\", \"Water\", \"Grass\", \"Fairy\"]\n",
    "\n",
    "pokemon_type=input(\"Enter Type: \")\n",
    "\n",
    "if pokemon_type in pokemons:\n",
    "    index=pokemons.index(pokemon_type)\n",
    "    print(types[index])\n",
    "else:\n",
    "    print(\"Not available\")\n"
   ]
  },
  {
   "cell_type": "code",
   "execution_count": 55,
   "metadata": {},
   "outputs": [
    {
     "name": "stdout",
     "output_type": "stream",
     "text": [
      "0\n"
     ]
    }
   ],
   "source": [
    "n=[22,33]\n",
    "index=n.index(22)\n",
    "print(index)"
   ]
  },
  {
   "cell_type": "markdown",
   "metadata": {},
   "source": [
    " num=[1,3,4,1,0,1,2,3,4,0,5,2,1,5,3,0]\n",
    " Write a program to count how many times each element appears in the\n",
    " given list.Solve the problem using a loop and another list to keep\n",
    " track of the counts"
   ]
  },
  {
   "cell_type": "code",
   "execution_count": null,
   "metadata": {},
   "outputs": [],
   "source": [
    "##\n",
    "num=[1,3,4,1,0,1,2,3,4,0,5,2,1,5,3,0]\n",
    "count=[0]*(max(num)+1)\n",
    "#index  0,1,2,3,4,5\n",
    "#count=[0,0,0,0,0,0]\n",
    "for x in num:\n",
    "    count[x]+=1\n",
    "\n",
    "print(count)\n"
   ]
  },
  {
   "cell_type": "markdown",
   "metadata": {},
   "source": [
    "# **Pattern Printing**\n",
    "\n",
    "https://www.geeksforgeeks.org/programs-printing-pyramid-patterns-python/\n",
    "\n",
    "https://www.youtube.com/watch?v=fX64q6sYom0"
   ]
  },
  {
   "cell_type": "markdown",
   "metadata": {},
   "source": [
    " Write a program to take a number N asinput. Now, draw an upside-down right-angled\n",
    " triangle using * "
   ]
  },
  {
   "cell_type": "code",
   "execution_count": 74,
   "metadata": {},
   "outputs": [
    {
     "name": "stdout",
     "output_type": "stream",
     "text": [
      "***\n",
      "**\n",
      "*\n"
     ]
    }
   ],
   "source": [
    "n=3\n",
    "for i in range(1,n+1):\n",
    "    for j in range(n-i+1):\n",
    "        print(\"*\",end=\"\")\n",
    "    print()"
   ]
  },
  {
   "cell_type": "markdown",
   "metadata": {},
   "source": [
    "# **FEW OTHER PATTERNS**"
   ]
  },
  {
   "cell_type": "code",
   "execution_count": 75,
   "metadata": {},
   "outputs": [
    {
     "name": "stdout",
     "output_type": "stream",
     "text": [
      "*\n",
      "**\n",
      "***\n"
     ]
    }
   ],
   "source": [
    "n=3\n",
    "for i in range(1,n+1):\n",
    "    for j in range(i):\n",
    "        print(\"*\",end=\"\")\n",
    "    print()"
   ]
  },
  {
   "cell_type": "code",
   "execution_count": 76,
   "metadata": {},
   "outputs": [
    {
     "name": "stdout",
     "output_type": "stream",
     "text": [
      "1234\n",
      "123\n",
      "12\n",
      "1\n",
      "1\n",
      "12\n",
      "123\n",
      "1234\n"
     ]
    }
   ],
   "source": [
    "for i in range(1,5):\n",
    "    for j in range(1,(5-i)+1):\n",
    "        print(j,end=\"\")\n",
    "    print()\n",
    "\n",
    "for i in range(1,5):\n",
    "    for j in range(1,i+1):\n",
    "        print(j,end=\"\")\n",
    "    print()"
   ]
  },
  {
   "cell_type": "code",
   "execution_count": 77,
   "metadata": {},
   "outputs": [
    {
     "name": "stdout",
     "output_type": "stream",
     "text": [
      "  *\n",
      " **\n",
      "***\n"
     ]
    }
   ],
   "source": [
    "n = 3 \n",
    "for i in range(1, n + 1): \n",
    "    for j in range(n - i): \n",
    "        print(\" \", end=\"\")\n",
    "    for j in range(i): \n",
    "        print(\"*\", end=\"\")\n",
    "    print()"
   ]
  },
  {
   "cell_type": "code",
   "execution_count": 78,
   "metadata": {},
   "outputs": [
    {
     "name": "stdout",
     "output_type": "stream",
     "text": [
      "  *\n",
      " ***\n",
      "*****\n"
     ]
    }
   ],
   "source": [
    "n = 3 \n",
    "for i in range(1, n + 1):  \n",
    "    for j in range(n - i):\n",
    "        print(\" \", end=\"\")  \n",
    "    for j in range(2 * i - 1):  \n",
    "        print(\"*\", end=\"\")  \n",
    "    print()"
   ]
  },
  {
   "cell_type": "markdown",
   "metadata": {},
   "source": [
    "# **Output Tracing**"
   ]
  },
  {
   "cell_type": "code",
   "execution_count": 12,
   "metadata": {},
   "outputs": [
    {
     "name": "stdout",
     "output_type": "stream",
     "text": [
      "*\n",
      "**\n",
      "***\n"
     ]
    }
   ],
   "source": [
    "n = 1\n",
    "for i in range (1,n+3):\n",
    "    for j in range(1,(n+i)):\n",
    "        if j <= n - j :\n",
    "            print(\"\",end=\"\")\n",
    "        else:\n",
    "            print(\"*\",end=\"\")\n",
    "    print()"
   ]
  },
  {
   "cell_type": "code",
   "execution_count": 62,
   "metadata": {},
   "outputs": [
    {
     "name": "stdout",
     "output_type": "stream",
     "text": [
      "*\n",
      "***\n",
      "*****\n"
     ]
    }
   ],
   "source": [
    "n=5\n",
    "for i in range(1,n+1,2):\n",
    "    print(i*\"*\")\n"
   ]
  },
  {
   "cell_type": "code",
   "execution_count": 1,
   "metadata": {},
   "outputs": [
    {
     "name": "stdout",
     "output_type": "stream",
     "text": [
      "Total Sum 400\n"
     ]
    }
   ],
   "source": [
    "sum=10\n",
    "for i in range(1,4):\n",
    "    sum+=10\n",
    "    for j in range(1,4):\n",
    "        sum=sum+10\n",
    "        for k in range(1,4):\n",
    "            sum+=10\n",
    "print(\"Total Sum\", sum)\n",
    "\n"
   ]
  },
  {
   "cell_type": "code",
   "execution_count": 63,
   "metadata": {},
   "outputs": [
    {
     "name": "stdout",
     "output_type": "stream",
     "text": [
      "3\n",
      "YawH\n"
     ]
    }
   ],
   "source": [
    "str=\"Yer a wizard Harry\"\n",
    "listOfWords=[]\n",
    "word=\"\"\n",
    "count=0\n",
    "\n",
    "for c in str:\n",
    "    if c==\" \":\n",
    "        count+=1\n",
    "        listOfWords.append(word)\n",
    "        word=\"\"\n",
    "    else:\n",
    "        word+=c\n",
    "    \n",
    "listOfWords.append(word)\n",
    "print(count)\n",
    "word=\"\"\n",
    "for w in listOfWords:\n",
    "    word+=w[0]\n",
    "print(word)"
   ]
  },
  {
   "cell_type": "markdown",
   "metadata": {},
   "source": [
    "# **Extra: (Must Practice as a beginner)**"
   ]
  },
  {
   "cell_type": "markdown",
   "metadata": {},
   "source": [
    "### **Palindrome Checker**"
   ]
  },
  {
   "cell_type": "code",
   "execution_count": 73,
   "metadata": {},
   "outputs": [
    {
     "name": "stdout",
     "output_type": "stream",
     "text": [
      "'yeey' is a palindrome.\n"
     ]
    }
   ],
   "source": [
    "str=input(\"Enter a string to check if it's a palindrome: \").strip().lower()\n",
    "\n",
    "if str==str[::-1]:\n",
    "    print(f\"'{str}' is a palindrome.\")\n",
    "else:\n",
    "    print(f\"'{str}' is not a palindrome.\")"
   ]
  },
  {
   "cell_type": "markdown",
   "metadata": {},
   "source": [
    "### **Fibonacci**"
   ]
  },
  {
   "cell_type": "code",
   "execution_count": null,
   "metadata": {},
   "outputs": [
    {
     "name": "stdout",
     "output_type": "stream",
     "text": [
      "0 1 1 2 3 5 8 13 21 "
     ]
    }
   ],
   "source": [
    "n = int(input(\"Enter the value of n: \"))\n",
    "a, b = 0, 1\n",
    "\n",
    "for i in range(n):\n",
    "    if i < n-1:\n",
    "        print(a, end=\" \")\n",
    "    a, b = b, a + b"
   ]
  },
  {
   "cell_type": "markdown",
   "metadata": {},
   "source": [
    "### **Prime Numbers**"
   ]
  },
  {
   "cell_type": "code",
   "execution_count": 71,
   "metadata": {},
   "outputs": [
    {
     "name": "stdout",
     "output_type": "stream",
     "text": [
      "17 is a prime number.\n"
     ]
    }
   ],
   "source": [
    "n = int(input(\"Enter a number to check if it's prime: \"))\n",
    "\n",
    "if n <= 1:\n",
    "    print(f\"{n} is not a prime number.\")\n",
    "else:\n",
    "    is_prime = True\n",
    "    for i in range(2, int(n ** 0.5) + 1): \n",
    "        if n % i == 0:\n",
    "            is_prime = False\n",
    "            break\n",
    "\n",
    "    if is_prime:\n",
    "        print(f\"{n} is a prime number.\")\n",
    "    else:\n",
    "        print(f\"{n} is not a prime number.\")"
   ]
  },
  {
   "cell_type": "markdown",
   "metadata": {},
   "source": [
    "### **Anagram Checker**"
   ]
  },
  {
   "cell_type": "code",
   "execution_count": 69,
   "metadata": {},
   "outputs": [
    {
     "name": "stdout",
     "output_type": "stream",
     "text": [
      "'abcd' and 'dcab' are anagrams.\n"
     ]
    }
   ],
   "source": [
    "str1 = input(\"Enter the first string: \").strip().lower()\n",
    "str2 = input(\"Enter the second string: \").strip().lower()\n",
    "\n",
    "if sorted(str1) == sorted(str2):\n",
    "    print(f\"'{str1}' and '{str2}' are anagrams.\")\n",
    "else:\n",
    "    print(f\"'{str1}' and '{str2}' are not anagrams.\")"
   ]
  }
 ],
 "metadata": {
  "kernelspec": {
   "display_name": "Python 3",
   "language": "python",
   "name": "python3"
  },
  "language_info": {
   "codemirror_mode": {
    "name": "ipython",
    "version": 3
   },
   "file_extension": ".py",
   "mimetype": "text/x-python",
   "name": "python",
   "nbconvert_exporter": "python",
   "pygments_lexer": "ipython3",
   "version": "3.11.9"
  }
 },
 "nbformat": 4,
 "nbformat_minor": 2
}
